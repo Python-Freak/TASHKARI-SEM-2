{
 "cells": [
  {
   "cell_type": "code",
   "execution_count": 1,
   "id": "16db4268",
   "metadata": {},
   "outputs": [],
   "source": [
    "import numpy as np"
   ]
  },
  {
   "cell_type": "code",
   "execution_count": 2,
   "id": "5bcac3ad",
   "metadata": {},
   "outputs": [
    {
     "name": "stdout",
     "output_type": "stream",
     "text": [
      "Hello World\n",
      "2 5\n",
      "Value of a = 2\n"
     ]
    }
   ],
   "source": [
    "print(\"Hello World\")\n",
    "a, b = 2, 5\n",
    "print(a,b)\n",
    "print(\"Value of a =\", a)"
   ]
  },
  {
   "cell_type": "code",
   "execution_count": 3,
   "id": "de58caaa",
   "metadata": {},
   "outputs": [
    {
     "name": "stdout",
     "output_type": "stream",
     "text": [
      "!\n",
      "ld\n",
      "Hello World!\n"
     ]
    }
   ],
   "source": [
    "str = 'Hello World!'\n",
    "print (str[-1])\n",
    "print (str[-3:-1]) \n",
    "print (str[-12:])"
   ]
  },
  {
   "cell_type": "code",
   "execution_count": 4,
   "id": "6a4843e0",
   "metadata": {},
   "outputs": [
    {
     "name": "stdout",
     "output_type": "stream",
     "text": [
      "['abcd', 786, 2.23, 'john', 70.2]\n",
      "abcd\n",
      "[786, 2.23]\n",
      "[2.23, 'john', 70.2]\n",
      "[123, 'john', 123, 'john']\n",
      "['abcd', 786, 2.23, 'john', 70.2, 123, 'john']\n"
     ]
    }
   ],
   "source": [
    "list = [ 'abcd', 786 , 2.23, 'john', 70.2 ]\n",
    "tinylist = [123, 'john']\n",
    "print (list)\n",
    "print (list[0])\n",
    "print (list[1:3])\n",
    "print (list[2:])\n",
    "print (tinylist * 2) \n",
    "print (list + tinylist)"
   ]
  },
  {
   "cell_type": "code",
   "execution_count": 5,
   "id": "5a0f9944",
   "metadata": {},
   "outputs": [
    {
     "name": "stdout",
     "output_type": "stream",
     "text": [
      "('abcd', 786, 2.23, 'john', 70.2)\n",
      "abcd\n",
      "(786, 2.23)\n",
      "(2.23, 'john', 70.2)\n",
      "(123, 'john', 123, 'john')\n",
      "('abcd', 786, 2.23, 'john', 70.2, 123, 'john')\n"
     ]
    }
   ],
   "source": [
    "tuple = ( 'abcd', 786 , 2.23, 'john', 70.2 )\n",
    "tinytuple = (123, 'john')\n",
    "print (tuple)\n",
    "print (tuple[0])\n",
    "print (tuple[1:3])\n",
    "print (tuple[2:])\n",
    "print (tinytuple * 2)\n",
    "print (tuple + tinytuple)"
   ]
  },
  {
   "cell_type": "code",
   "execution_count": 6,
   "id": "e1942d92",
   "metadata": {},
   "outputs": [
    {
     "name": "stdout",
     "output_type": "stream",
     "text": [
      "This is one\n",
      "This is two\n",
      "{'name': 'john', 'code': 6734, 'dept': 'sales'}\n",
      "dict_keys(['name', 'code', 'dept'])\n"
     ]
    }
   ],
   "source": [
    "dict = {}\n",
    "dict['one'] = \"This is one\" \n",
    "dict[2] = \"This is two\"\n",
    "tinydict = {'name': 'john','code':6734, 'dept': 'sales'}\n",
    "print (dict['one'])\n",
    "print (dict[2])\n",
    "print (tinydict)\n",
    "print (tinydict.keys()) "
   ]
  },
  {
   "cell_type": "code",
   "execution_count": 7,
   "id": "9c85293f",
   "metadata": {},
   "outputs": [
    {
     "name": "stdout",
     "output_type": "stream",
     "text": [
      "[1, 2, 3] 4\n"
     ]
    }
   ],
   "source": [
    "a = [[1,2,3], [4,5,6]]\n",
    "print(a[0], a[1][0])"
   ]
  },
  {
   "cell_type": "code",
   "execution_count": 8,
   "id": "3576e309",
   "metadata": {},
   "outputs": [
    {
     "name": "stdout",
     "output_type": "stream",
     "text": [
      "1 - Got a true expression value\n",
      "100\n"
     ]
    }
   ],
   "source": [
    "var1 = 100 \n",
    "if var1:\n",
    "    print (\"1 - Got a true expression value\") \n",
    "    print (var1)\n",
    "var2 = 0 \n",
    "if var2:\n",
    "    print (\"2 - Got a true expression value\")\n",
    "    print (var2) \n",
    "    print (\"Good bye!\")"
   ]
  },
  {
   "cell_type": "code",
   "execution_count": 9,
   "id": "1f0ae766",
   "metadata": {},
   "outputs": [
    {
     "name": "stdout",
     "output_type": "stream",
     "text": [
      "Enter amount: 799\n",
      "Discount 39.95\n"
     ]
    }
   ],
   "source": [
    "amount=int(input(\"Enter amount: \"))\n",
    "if amount<1000: \n",
    "    discount=amount*0.05 \n",
    "    print (\"Discount\",discount)\n",
    "else:\n",
    "    discount=amount*0.10 \n",
    "    print (\"Discount\",discount)"
   ]
  },
  {
   "cell_type": "code",
   "execution_count": 10,
   "id": "2937f985",
   "metadata": {},
   "outputs": [
    {
     "name": "stdout",
     "output_type": "stream",
     "text": [
      "Enter amount: 5999\n",
      "Discount 899.85\n",
      "Net payable: 5099.15\n"
     ]
    }
   ],
   "source": [
    "amount=int(input(\"Enter amount: \")) \n",
    "if amount<1000:\n",
    "    discount=amount*0.05\n",
    "    print (\"Discount\",discount) \n",
    "elif amount<5000:\n",
    "    discount=amount*0.10\n",
    "    print (\"Discount\",discount) \n",
    "else:\n",
    "    discount=amount*0.15 \n",
    "    print (\"Discount\",discount)\n",
    "print (\"Net payable:\",amount-discount)"
   ]
  },
  {
   "cell_type": "code",
   "execution_count": 11,
   "id": "756e25c1",
   "metadata": {},
   "outputs": [
    {
     "name": "stdout",
     "output_type": "stream",
     "text": [
      "enter number67584\n",
      "Divisible by 3 and 2\n"
     ]
    }
   ],
   "source": [
    "num=int(input(\"enter number\")) \n",
    "if num%2==0:\n",
    "    if num%3==0:\n",
    "        print (\"Divisible by 3 and 2\")\n",
    "    else:\n",
    "        print (\"divisible by 2 not divisible by 3\")\n",
    "else: \n",
    "    if num%3==0:\n",
    "        print (\"divisible by 3 not divisible by 2\")\n",
    "    else:\n",
    "        print (\"not Divisible by 2 not divisible by 3\")"
   ]
  },
  {
   "cell_type": "code",
   "execution_count": 12,
   "id": "314cdd98",
   "metadata": {},
   "outputs": [
    {
     "name": "stdout",
     "output_type": "stream",
     "text": [
      "The count is: 0\n",
      "The count is: 1\n",
      "The count is: 2\n",
      "The count is: 3\n",
      "The count is: 4\n",
      "The count is: 5\n",
      "The count is: 6\n",
      "The count is: 7\n",
      "The count is: 8\n",
      "The count is: 9\n",
      "The count is: 10\n",
      "Good bye!\n"
     ]
    }
   ],
   "source": [
    "count = 0\n",
    "while count < 11:\n",
    "    print ('The count is:', count) \n",
    "    count = count + 1\n",
    "print (\"Good bye!\")"
   ]
  },
  {
   "cell_type": "code",
   "execution_count": 13,
   "id": "252130ee",
   "metadata": {},
   "outputs": [
    {
     "name": "stdout",
     "output_type": "stream",
     "text": [
      "0\n",
      "1\n",
      "2\n",
      "3\n",
      "4\n"
     ]
    }
   ],
   "source": [
    "for var in range(5): \n",
    "    print(var)"
   ]
  },
  {
   "cell_type": "code",
   "execution_count": 14,
   "id": "7cca1f36",
   "metadata": {},
   "outputs": [
    {
     "name": "stdout",
     "output_type": "stream",
     "text": [
      "Current Letter : P\n",
      "Current Letter : y\n",
      "Current Letter : t\n",
      "Current Letter : o\n",
      "Current Letter : n\n"
     ]
    }
   ],
   "source": [
    "for letter in 'Python': \n",
    "    if letter == 'h':\n",
    "        continue\n",
    "    print ('Current Letter :', letter)"
   ]
  },
  {
   "cell_type": "code",
   "execution_count": 15,
   "id": "0fe3bb18",
   "metadata": {},
   "outputs": [],
   "source": [
    "def sum___(*args):\n",
    "    return sum(args)"
   ]
  },
  {
   "cell_type": "code",
   "execution_count": 16,
   "id": "e755925e",
   "metadata": {},
   "outputs": [
    {
     "name": "stdout",
     "output_type": "stream",
     "text": [
      "6\n"
     ]
    }
   ],
   "source": [
    "print(sum___(1,2,3))"
   ]
  },
  {
   "cell_type": "code",
   "execution_count": 17,
   "id": "fffffa7c",
   "metadata": {},
   "outputs": [
    {
     "name": "stdout",
     "output_type": "stream",
     "text": [
      "[[1. 2. 3.]\n",
      " [4. 5. 6.]] <class 'numpy.ndarray'>\n"
     ]
    }
   ],
   "source": [
    "x = np.array([[1,2,3],[4,5,6]], float)\n",
    "print(x, type(x))"
   ]
  },
  {
   "cell_type": "code",
   "execution_count": 18,
   "id": "c6be0dca",
   "metadata": {},
   "outputs": [
    {
     "name": "stdout",
     "output_type": "stream",
     "text": [
      "[[0. 1. 2. 3. 4.]\n",
      " [5. 6. 7. 8. 9.]]\n"
     ]
    }
   ],
   "source": [
    "x = np.array(range(10), float).reshape((2,5))\n",
    "print(x)"
   ]
  },
  {
   "cell_type": "code",
   "execution_count": 19,
   "id": "2c073381",
   "metadata": {},
   "outputs": [
    {
     "name": "stdout",
     "output_type": "stream",
     "text": [
      "[[0. 1.]\n",
      " [2. 3.]\n",
      " [4. 5.]\n",
      " [6. 7.]\n",
      " [8. 9.]]\n",
      "[[0. 2. 4. 6. 8.]\n",
      " [1. 3. 5. 7. 9.]]\n"
     ]
    }
   ],
   "source": [
    "x = np.array(range(10), float).reshape((5,2))\n",
    "print(x, x.transpose(), sep = \"\\n\")"
   ]
  },
  {
   "cell_type": "code",
   "execution_count": 20,
   "id": "df9f9535",
   "metadata": {},
   "outputs": [
    {
     "name": "stdout",
     "output_type": "stream",
     "text": [
      "[0. 1. 2. 3. 4. 5. 6. 7. 8. 9.]\n"
     ]
    }
   ],
   "source": [
    "x = x.flatten()\n",
    "print(x)"
   ]
  },
  {
   "cell_type": "code",
   "execution_count": 21,
   "id": "2ce92359",
   "metadata": {},
   "outputs": [
    {
     "name": "stdout",
     "output_type": "stream",
     "text": [
      "[[1. 2. 4. 5.]\n",
      " [3. 4. 2. 5.]]\n",
      "[[1. 2.]\n",
      " [3. 4.]\n",
      " [4. 5.]\n",
      " [2. 5.]]\n"
     ]
    }
   ],
   "source": [
    "a = np.array([[1,2], [3,4]], float)\n",
    "b = np.array([[4,5], [2,5]], float)\n",
    "print(np.concatenate((a,b), axis = 1))\n",
    "print(np.concatenate((a,b), axis = 0))"
   ]
  },
  {
   "cell_type": "code",
   "execution_count": 22,
   "id": "68238c66",
   "metadata": {},
   "outputs": [
    {
     "name": "stdout",
     "output_type": "stream",
     "text": [
      "4.5\n",
      "8.25\n",
      "2.8722813232690143\n",
      "[0. 1. 2. 3. 4. 5. 6. 7. 8. 9.]\n",
      "0.0\n",
      "0\n",
      "4.5\n"
     ]
    }
   ],
   "source": [
    "x.sort()\n",
    "print(x.mean())\n",
    "print(x.var())\n",
    "print(x.std())\n",
    "print(x)\n",
    "print(x.min())\n",
    "print(x.argmin())\n",
    "print(np.median(x))"
   ]
  },
  {
   "cell_type": "code",
   "execution_count": 23,
   "id": "edbb51ad",
   "metadata": {},
   "outputs": [
    {
     "data": {
      "text/plain": [
       "array([[2.5, 2. ],\n",
       "       [2. , 1.7]])"
      ]
     },
     "execution_count": 23,
     "metadata": {},
     "output_type": "execute_result"
    }
   ],
   "source": [
    "a = np.array([[1,2,3,4,5], [2,3,4,5,5]], float)\n",
    "np.corrcoef(a)\n",
    "np.cov(a)"
   ]
  },
  {
   "cell_type": "code",
   "execution_count": 27,
   "id": "b35fa0ad",
   "metadata": {},
   "outputs": [
    {
     "name": "stdout",
     "output_type": "stream",
     "text": [
      "[6. 7. 8. 9.]\n",
      "[array([False, False, False, False, False, False,  True,  True,  True,\n",
      "        True])]\n"
     ]
    }
   ],
   "source": [
    "print(x[x>=6])\n",
    "print([x>=6])"
   ]
  }
 ],
 "metadata": {
  "kernelspec": {
   "display_name": "Python 3 (ipykernel)",
   "language": "python",
   "name": "python3"
  },
  "language_info": {
   "codemirror_mode": {
    "name": "ipython",
    "version": 3
   },
   "file_extension": ".py",
   "mimetype": "text/x-python",
   "name": "python",
   "nbconvert_exporter": "python",
   "pygments_lexer": "ipython3",
   "version": "3.9.13"
  }
 },
 "nbformat": 4,
 "nbformat_minor": 5
}
