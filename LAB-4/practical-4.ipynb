{
 "cells": [
  {
   "cell_type": "code",
   "execution_count": 1,
   "id": "a934997f",
   "metadata": {},
   "outputs": [
    {
     "name": "stdout",
     "output_type": "stream",
     "text": [
      "best route is : (0, 3, 8, 4, 1, 9, 10, 2, 5, 7, 6)\n",
      "tour length is : 1639\n",
      "time taken  233.703125\n"
     ]
    }
   ],
   "source": [
    "#bruteforce approach\n",
    "import pandas as pd\n",
    "import time\n",
    "import numpy as np\n",
    "matrix=pd.read_csv('11citytsp.csv',header=None).values\n",
    "from itertools import permutations\n",
    "cy=list(range(matrix.shape[0]))\n",
    "pr=permutations(cy)\n",
    "st=time.process_time()\n",
    "bstroute=np.inf\n",
    "for tr in pr:\n",
    "    trlength=0\n",
    "    for i in range(len(tr)-1):\n",
    "        trlength=trlength+matrix[tr[i],tr[i+1]]\n",
    "    trlength=trlength+matrix[tr[i+1],tr[0]]\n",
    "    if trlength<bstroute:\n",
    "        bstroute=trlength\n",
    "        bsttr=tr\n",
    "et=time.process_time()\n",
    "tmtaken=et-st\n",
    "print(\"best route is :\",bsttr)\n",
    "print(\"tour length is :\",bstroute)\n",
    "print(\"time taken \",tmtaken)"
   ]
  },
  {
   "cell_type": "code",
   "execution_count": 5,
   "id": "915dc899",
   "metadata": {},
   "outputs": [
    {
     "name": "stdout",
     "output_type": "stream",
     "text": [
      "enter the starting city from 0 to 10\n",
      "7\n",
      "1639\n",
      "[7, 5, 2, 10, 9, 1, 4, 8, 3, 0, 6]\n",
      "18984.375\n"
     ]
    }
   ],
   "source": [
    "#travelling sales man problem,if starting city is given\n",
    "import pandas as pd\n",
    "import numpy as np\n",
    "import time\n",
    "matrix=pd.read_csv('11citytsp.csv',header=None).values\n",
    "from itertools import permutations\n",
    "startcity=int(input(\"enter the starting city from 0 to 10\\n\"))\n",
    "cn=list(range(matrix.shape[0]))\n",
    "cn.remove(startcity)\n",
    "pr=permutations(cn)\n",
    "btlen=np.inf\n",
    "st=time.process_time()\n",
    "for tour in pr:\n",
    "    tl=0\n",
    "    for i in range(len(tour)-1):\n",
    "        tl+=matrix[tour[i],tour[i+1]]\n",
    "    tl+=matrix[startcity,tour[0]]\n",
    "    tl+=matrix[tour[i+1],startcity]\n",
    "    if tl<btlen:\n",
    "        btlen=tl\n",
    "        bt=list(tour)\n",
    "        bt.insert(0,startcity)\n",
    "cn=cn.insert(0,startcity)\n",
    "et=time.process_time()\n",
    "ti_me=(et-st)*1000\n",
    "print(btlen)\n",
    "print(bt)\n",
    "print(ti_me)"
   ]
  },
  {
   "cell_type": "code",
   "execution_count": 2,
   "id": "4fae18c2",
   "metadata": {},
   "outputs": [
    {
     "name": "stdout",
     "output_type": "stream",
     "text": [
      "enter the city from 0 to 10:0\n",
      "[[ inf 633. 257.  91. 412. 150.  80. 134. 259. 505. 353.]\n",
      " [633.  inf 390. 661. 227. 488. 572. 530. 555. 289. 282.]\n",
      " [257. 390.  inf 228. 169. 112. 196. 154. 372. 262. 110.]\n",
      " [ 91. 661. 228.  inf 383. 120.  77. 105. 175. 476. 324.]\n",
      " [412. 227. 169. 383.  inf 267. 351. 309. 338. 196.  61.]\n",
      " [150. 488. 112. 120. 267.  inf  63.  34. 264. 360. 208.]\n",
      " [ 80. 572. 196.  77. 351.  63.  inf  29. 232. 444. 292.]\n",
      " [134. 530. 154. 105. 309.  34.  29.  inf 249. 402. 250.]\n",
      " [259. 555. 372. 175. 338. 264. 232. 249.  inf 495. 352.]\n",
      " [505. 289. 262. 476. 196. 360. 444. 402. 495.  inf 154.]\n",
      " [353. 282. 110. 324.  61. 208. 292. 250. 352. 154.  inf]]\n",
      "best tour is [0, 6, 7, 5, 2, 10, 4, 9, 1, 8, 3]\n",
      "tour length is  1732.0\n",
      "time taken is  0.0\n"
     ]
    }
   ],
   "source": [
    "#using heuristic approach\n",
    "import pandas as pd\n",
    "import time\n",
    "import numpy as np\n",
    "matrix=pd.read_csv('11citytsp.csv',header=None).values.astype(float)\n",
    "matrix[matrix==0]=np.inf\n",
    "matrix2=matrix.copy()\n",
    "startcity=int( input(\"enter the city from 0 to \" + str(matrix.shape[0]-1) + \":\") )\n",
    "bt=[startcity]\n",
    "tl=0\n",
    "st=time.process_time()\n",
    "for i in range(matrix.shape[0]-1):\n",
    "    if i==0:\n",
    "        tl+=min(matrix[startcity,:])\n",
    "        nextbestind=np.argmin(matrix[startcity,:])\n",
    "        bt.append(nextbestind)\n",
    "        matrix[:,nextbestind]=np.inf\n",
    "        matrix[:,startcity]=np.inf\n",
    "    else:\n",
    "        tl+=min(matrix[nextbestind,:])\n",
    "        nextbestind=np.argmin(matrix[nextbestind,:])\n",
    "        bt.append(nextbestind)\n",
    "        matrix[:,nextbestind]=np.inf\n",
    "tl+=matrix2[nextbestind,startcity]        \n",
    "et=time.process_time()\n",
    "print(matrix2)\n",
    "timetaken=(et-st)*1000\n",
    "print(\"best tour is\",bt)\n",
    "print(\"tour length is \",tl)\n",
    "print(\"time taken is \",timetaken)"
   ]
  },
  {
   "cell_type": "code",
   "execution_count": null,
   "id": "1312e979",
   "metadata": {},
   "outputs": [],
   "source": []
  }
 ],
 "metadata": {
  "kernelspec": {
   "display_name": "Python 3 (ipykernel)",
   "language": "python",
   "name": "python3"
  },
  "language_info": {
   "codemirror_mode": {
    "name": "ipython",
    "version": 3
   },
   "file_extension": ".py",
   "mimetype": "text/x-python",
   "name": "python",
   "nbconvert_exporter": "python",
   "pygments_lexer": "ipython3",
   "version": "3.11.2"
  }
 },
 "nbformat": 4,
 "nbformat_minor": 5
}
