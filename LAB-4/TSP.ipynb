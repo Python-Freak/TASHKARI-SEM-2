{
 "cells": [
  {
   "cell_type": "code",
   "execution_count": 1,
   "id": "9ab39644",
   "metadata": {},
   "outputs": [
    {
     "name": "stdout",
     "output_type": "stream",
     "text": [
      "[[99999999999999            633            257             91\n",
      "             412            150             80            134\n",
      "             259            505            353]\n",
      " [           633 99999999999999            390            661\n",
      "             227            488            572            530\n",
      "             555            289            282]\n",
      " [           257            390 99999999999999            228\n",
      "             169            112            196            154\n",
      "             372            262            110]\n",
      " [            91            661            228 99999999999999\n",
      "             383            120             77            105\n",
      "             175            476            324]\n",
      " [           412            227            169            383\n",
      "  99999999999999            267            351            309\n",
      "             338            196             61]\n",
      " [           150            488            112            120\n",
      "             267 99999999999999             63             34\n",
      "             264            360            208]\n",
      " [            80            572            196             77\n",
      "             351             63 99999999999999             29\n",
      "             232            444            292]\n",
      " [           134            530            154            105\n",
      "             309             34             29 99999999999999\n",
      "             249            402            250]\n",
      " [           259            555            372            175\n",
      "             338            264            232            249\n",
      "  99999999999999            495            352]\n",
      " [           505            289            262            476\n",
      "             196            360            444            402\n",
      "             495 99999999999999            154]\n",
      " [           353            282            110            324\n",
      "              61            208            292            250\n",
      "             352            154 99999999999999]]\n"
     ]
    }
   ],
   "source": [
    "# HEURISTIC\n",
    "import pandas as ps\n",
    "import numpy as np\n",
    "import datetime\n",
    "import time\n",
    "MAX = 99999999999999\n",
    "data = ps.read_csv(\"11citytsp.csv\", header=None).values\n",
    "for i in range(data.shape[0]):\n",
    "    for j in range(data.shape[1]):\n",
    "        if(i==j):\n",
    "            data[i][j] = MAX\n",
    "print(data)"
   ]
  },
  {
   "cell_type": "code",
   "execution_count": 2,
   "id": "b1d9cd66",
   "metadata": {},
   "outputs": [],
   "source": [
    "def get_path(start, data, path, length):\n",
    "    min_dist = MAX\n",
    "    min_indx = -1\n",
    "    k = 0\n",
    "    while(k < data.shape[0]):\n",
    "        if(data[start][k] < min_dist):\n",
    "            min_dist = data[start][k]\n",
    "            min_indx = k\n",
    "        k+=1\n",
    "    if min_dist == MAX:\n",
    "        path.append(path[0])\n",
    "        length += data[path[-1]][path[-2]]\n",
    "        return path, length\n",
    "    else:\n",
    "        length += min_dist\n",
    "        path.append(min_indx)\n",
    "        for i in range(data.shape[0]):\n",
    "            data[i][start] = MAX\n",
    "        return get_path(min_indx, data, path, length)"
   ]
  },
  {
   "cell_type": "code",
   "execution_count": 3,
   "id": "b6b8a112",
   "metadata": {},
   "outputs": [
    {
     "name": "stdout",
     "output_type": "stream",
     "text": [
      "[0, 6, 7, 5, 2, 10, 4, 9, 1, 8, 3, 0] 1732 1.211\n"
     ]
    }
   ],
   "source": [
    "s = datetime.datetime.now()\n",
    "bPath = []\n",
    "bLength = MAX\n",
    "for i in range(data.shape[0]):\n",
    "    path, length = get_path(i, data.copy(), [i], 0)\n",
    "    if length < bLength:\n",
    "        bLength = length\n",
    "        bPath = path\n",
    "e = datetime.datetime.now()\n",
    "print(bPath, bLength, (e-s).total_seconds()*1000)"
   ]
  },
  {
   "cell_type": "code",
   "execution_count": 4,
   "id": "cb3baa07",
   "metadata": {},
   "outputs": [
    {
     "name": "stdout",
     "output_type": "stream",
     "text": [
      "[[  0  64 378 519 434 200]\n",
      " [ 64   0 318 455 375 164]\n",
      " [378 318   0 170 265 344]\n",
      " [519 455 170   0 223 428]\n",
      " [434 375 265 223   0 273]\n",
      " [200 164 344 428 273   0]]\n",
      "6\n"
     ]
    }
   ],
   "source": [
    "# BRUTFORCE\n",
    "import pandas as pd\n",
    "import numpy as np\n",
    "import time\n",
    "from itertools import permutations\n",
    "mat = pd.read_csv(\"6citytsp.csv\", header=None).values\n",
    "print(mat)\n",
    "print(mat.shape[0])"
   ]
  },
  {
   "cell_type": "code",
   "execution_count": 5,
   "id": "3ace1097",
   "metadata": {},
   "outputs": [
    {
     "name": "stdout",
     "output_type": "stream",
     "text": [
      "Time : 0.0 seconds.\n",
      "Best Tour :  [0, 1, 2, 3, 4, 5]\n",
      "Best length :  1248\n"
     ]
    }
   ],
   "source": [
    "s = time.process_time()\n",
    "citynames = list(range(mat.shape[0]))\n",
    "per = permutations(citynames)\n",
    "btl = np.inf\n",
    "bt = None\n",
    "for tour in per:\n",
    "    tl = 0\n",
    "    for i in range(len(tour)-1):\n",
    "        tl += mat[tour[i], tour[i+1]]\n",
    "    tl += mat[tour[i+1], tour[0]]\n",
    "    if tl < btl:\n",
    "        btl = tl\n",
    "        bt = list(tour)\n",
    "e = time.process_time()\n",
    "print(f\"Time : {(e-s)} seconds.\")\n",
    "print(\"Best Tour : \", bt)\n",
    "print(\"Best length : \", btl)"
   ]
  },
  {
   "cell_type": "code",
   "execution_count": 6,
   "id": "606aeded",
   "metadata": {},
   "outputs": [
    {
     "name": "stdout",
     "output_type": "stream",
     "text": [
      "Enter start city : 4\n",
      "Time : 0.0 seconds.\n",
      "Best Tour :  [4, 3, 2, 1, 0, 5]\n",
      "Best length :  1248\n"
     ]
    }
   ],
   "source": [
    "\n",
    "# BRUTFORCE WITH STARTING POINT\n",
    "start = int(input(\"Enter start city : \" ))\n",
    "s = time.process_time()\n",
    "citynames = list(range(mat.shape[0]))\n",
    "citynames.remove(start)\n",
    "per = permutations(citynames)\n",
    "btl = np.inf\n",
    "bt = None\n",
    "for tour in per:\n",
    "    tl = 0\n",
    "    for i in range(len(tour)-1):\n",
    "        tl += mat[tour[i], tour[i+1]]\n",
    "    tl += mat[tour[i+1], start]\n",
    "    tl += mat[start, tour[0]]\n",
    "    if tl < btl:\n",
    "        btl = tl\n",
    "        bt = list(tour)\n",
    "bt.insert(0, start)\n",
    "e = time.process_time()\n",
    "print(f\"Time : {(e-s)} seconds.\")\n",
    "print(\"Best Tour : \", bt)\n",
    "print(\"Best length : \", btl)"
   ]
  }
 ],
 "metadata": {
  "kernelspec": {
   "display_name": "Python 3 (ipykernel)",
   "language": "python",
   "name": "python3"
  },
  "language_info": {
   "codemirror_mode": {
    "name": "ipython",
    "version": 3
   },
   "file_extension": ".py",
   "mimetype": "text/x-python",
   "name": "python",
   "nbconvert_exporter": "python",
   "pygments_lexer": "ipython3",
   "version": "3.10.9"
  }
 },
 "nbformat": 4,
 "nbformat_minor": 5
}
