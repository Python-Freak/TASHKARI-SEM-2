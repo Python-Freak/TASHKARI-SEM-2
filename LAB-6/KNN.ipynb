{
 "cells": [
  {
   "cell_type": "code",
   "execution_count": 1,
   "metadata": {},
   "outputs": [
    {
     "name": "stdout",
     "output_type": "stream",
     "text": [
      "     SepalLengthCm  SepalWidthCm  PetalLengthCm  PetalWidthCm  Species\n",
      "0              5.1           3.5            1.4           0.2        0\n",
      "1              4.9           3.0            1.4           0.2        0\n",
      "2              4.7           3.2            1.3           0.2        0\n",
      "3              4.6           3.1            1.5           0.2        0\n",
      "4              5.0           3.6            1.4           0.2        0\n",
      "..             ...           ...            ...           ...      ...\n",
      "145            6.7           3.0            5.2           2.3        2\n",
      "146            6.3           2.5            5.0           1.9        2\n",
      "147            6.5           3.0            5.2           2.0        2\n",
      "148            6.2           3.4            5.4           2.3        2\n",
      "149            5.9           3.0            5.1           1.8        2\n",
      "\n",
      "[150 rows x 5 columns]\n"
     ]
    }
   ],
   "source": [
    "import pandas as pd\n",
    "import numpy as np\n",
    "from sklearn.model_selection import train_test_split\n",
    "from sklearn.metrics import classification_report\n",
    "\n",
    "df = pd.read_csv(\"Iris.csv\", header=\"infer\")\n",
    "df = df.drop(columns=[\"Id\"])\n",
    "print(df)"
   ]
  },
  {
   "cell_type": "code",
   "execution_count": 2,
   "metadata": {},
   "outputs": [
    {
     "name": "stdout",
     "output_type": "stream",
     "text": [
      "Split ratio : 0.2\n",
      "X_test : (30, 4), y_test : (30,)\n"
     ]
    }
   ],
   "source": [
    "X = df.iloc[:,:-1]\n",
    "y = df.iloc[:, -1]\n",
    "X_train , X_test, y_train, y_test = train_test_split(X, y, test_size=float(input(\"Split ratio : \")), stratify=y) \n",
    "print(f\"X_test : {X_test.shape}, y_test : {y_test.shape}\")"
   ]
  },
  {
   "cell_type": "code",
   "execution_count": 3,
   "metadata": {},
   "outputs": [],
   "source": [
    "class KNN:\n",
    "    def __init__(self, k=5):\n",
    "        self.k = k\n",
    "        \n",
    "    def fit(self, X_train, y_train):\n",
    "        self.X_train = X_train\n",
    "        self.y_train = y_train\n",
    "        \n",
    "    def predict(self, X_test):\n",
    "        distances = self._compute_distances(X_test)\n",
    "        print(distances.shape)\n",
    "        labels = self._get_top_k_labels(distances)\n",
    "        y_pred = self._get_majority_vote(labels)\n",
    "        return y_pred\n",
    "    \n",
    "    def _compute_distances(self, X_test):\n",
    "        num_test = X_test.shape[0]\n",
    "        num_train = self.X_train.shape[0]\n",
    "        dists = np.zeros((num_test, num_train))\n",
    "        for i in range(num_test):\n",
    "            dists[i] = np.sqrt(np.sum((X_test.iloc[i] - self.X_train)**2, axis=1))\n",
    "        return dists\n",
    "    \n",
    "    def _get_top_k_labels(self, distances):\n",
    "        num_test = distances.shape[0]\n",
    "        labels = np.zeros((num_test, self.k))\n",
    "        for i in range(num_test):\n",
    "            idx = np.argsort(distances[i])[:self.k]\n",
    "            labels[i] = self.y_train.iloc[idx]\n",
    "        return labels\n",
    "    \n",
    "    def _get_majority_vote(self, labels):\n",
    "        majority = []\n",
    "        for label in labels:\n",
    "            majority.append(int(np.max(label)))\n",
    "        return majority"
   ]
  },
  {
   "cell_type": "code",
   "execution_count": 4,
   "metadata": {},
   "outputs": [
    {
     "name": "stdout",
     "output_type": "stream",
     "text": [
      "(30, 120)\n",
      "              precision    recall  f1-score   support\n",
      "\n",
      "           0       1.00      1.00      1.00        10\n",
      "           1       1.00      0.70      0.82        10\n",
      "           2       0.77      1.00      0.87        10\n",
      "\n",
      "    accuracy                           0.90        30\n",
      "   macro avg       0.92      0.90      0.90        30\n",
      "weighted avg       0.92      0.90      0.90        30\n",
      "\n"
     ]
    }
   ],
   "source": [
    "model = KNN(3)\n",
    "model.fit(X_train, y_train)\n",
    "y_pred = model.predict(X_test)\n",
    "print(f\"{classification_report(y_test, y_pred)}\")"
   ]
  },
  {
   "cell_type": "code",
   "execution_count": 5,
   "metadata": {},
   "outputs": [
    {
     "name": "stdout",
     "output_type": "stream",
     "text": [
      "Accuracy : 0.9333333333333333\n"
     ]
    }
   ],
   "source": [
    "from sklearn.neighbors import KNeighborsClassifier\n",
    "model = KNeighborsClassifier(3, weights='distance')\n",
    "model.fit(X_train, y_train)\n",
    "pred = model.predict(X_test)\n",
    "print(f\"Accuracy : {model.score(X_test, y_test)}\")"
   ]
  }
 ],
 "metadata": {
  "kernelspec": {
   "display_name": "Python 3 (ipykernel)",
   "language": "python",
   "name": "python3"
  },
  "language_info": {
   "codemirror_mode": {
    "name": "ipython",
    "version": 3
   },
   "file_extension": ".py",
   "mimetype": "text/x-python",
   "name": "python",
   "nbconvert_exporter": "python",
   "pygments_lexer": "ipython3",
   "version": "3.11.2"
  }
 },
 "nbformat": 4,
 "nbformat_minor": 2
}
