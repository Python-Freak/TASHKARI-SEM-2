{
 "cells": [
  {
   "cell_type": "code",
   "execution_count": 1,
   "id": "ef121614",
   "metadata": {},
   "outputs": [
    {
     "name": "stdout",
     "output_type": "stream",
     "text": [
      "Enter the list : 1,1,2,2,2,3,4,5,5,5,5,6,7\n"
     ]
    },
    {
     "data": {
      "text/plain": [
       "[1, 1, 2, 2, 2, 3, 4, 5, 5, 5, 5, 6, 7]"
      ]
     },
     "execution_count": 1,
     "metadata": {},
     "output_type": "execute_result"
    }
   ],
   "source": [
    "lst = list(map(int, input(\"Enter the list : \").split(\",\")))\n",
    "lst"
   ]
  },
  {
   "cell_type": "code",
   "execution_count": 16,
   "id": "1b7588cd",
   "metadata": {},
   "outputs": [],
   "source": [
    "import numpy as np\n",
    "import statistics as s\n",
    "import math\n",
    "nlst = np.array(lst, float)"
   ]
  },
  {
   "cell_type": "code",
   "execution_count": 3,
   "id": "22cad831",
   "metadata": {},
   "outputs": [
    {
     "name": "stdout",
     "output_type": "stream",
     "text": [
      "MEAN :  3.6923076923076925\n",
      "MEAIDAN :  4.0\n",
      "VARIANCE :  3.597633136094674\n",
      "STD DEVIATION :  1.8967427701443003\n",
      "MODE :  5.0\n",
      "RANGE :  6.0\n"
     ]
    }
   ],
   "source": [
    "print(\"MEAN : \", np.mean(nlst))\n",
    "print(\"MEAIDAN : \", np.median(nlst))\n",
    "print(\"VARIANCE : \", np.var(nlst))\n",
    "print(\"STD DEVIATION : \", np.std(nlst))\n",
    "print(\"MODE : \", s.mode(nlst))\n",
    "print(\"RANGE : \", np.max(nlst)-np.min(nlst))"
   ]
  },
  {
   "cell_type": "code",
   "execution_count": 4,
   "id": "069c7aad",
   "metadata": {},
   "outputs": [],
   "source": [
    "def mean(nlst):\n",
    "    return np.sum(nlst)/len(nlst)"
   ]
  },
  {
   "cell_type": "code",
   "execution_count": 5,
   "id": "47b6c318",
   "metadata": {},
   "outputs": [],
   "source": [
    "def median(nlst):\n",
    "    np.sort(nlst)\n",
    "    n = len(nlst)\n",
    "    if(n%2==0):\n",
    "        return nlst[n//2 - 1] + nlst[(n//2) ]\n",
    "    else:\n",
    "        return nlst[(n+1)//2 - 1]"
   ]
  },
  {
   "cell_type": "code",
   "execution_count": 6,
   "id": "4d69c023",
   "metadata": {},
   "outputs": [],
   "source": [
    "def mode(nlst):\n",
    "    nlst = list(nlst)\n",
    "    d = {item : nlst.count(item) for item in nlst}\n",
    "    max_ = 0\n",
    "    key_ = None\n",
    "    for key in d.keys():\n",
    "        if(max_ < d[key]):\n",
    "            max_ = d[key]\n",
    "            key_ = key\n",
    "    return key_\n",
    "        "
   ]
  },
  {
   "cell_type": "code",
   "execution_count": 10,
   "id": "32a1c570",
   "metadata": {},
   "outputs": [],
   "source": [
    "def variance(nlst):\n",
    "    m = mean(nlst)\n",
    "    sum_ = 0\n",
    "    for elem in nlst:\n",
    "        sum_ += (elem - m)**2\n",
    "    return sum_/len(nlst)"
   ]
  },
  {
   "cell_type": "code",
   "execution_count": 17,
   "id": "6716c674",
   "metadata": {},
   "outputs": [],
   "source": [
    "def std_dev(nlst):\n",
    "    return sqrt(variance(nlst))"
   ]
  },
  {
   "cell_type": "code",
   "execution_count": 19,
   "id": "a9f92f90",
   "metadata": {},
   "outputs": [],
   "source": [
    "def range__(nlst):\n",
    "    return np.max(nlst) - np.min(nlst)"
   ]
  },
  {
   "cell_type": "code",
   "execution_count": 23,
   "id": "01b84c2d",
   "metadata": {},
   "outputs": [
    {
     "name": "stdout",
     "output_type": "stream",
     "text": [
      "MANUAL : \n",
      "\n",
      "MEAN :  3.6923076923076925\n",
      "MEDIAN :  4.0\n",
      "MODE :  5.0\n",
      "VARIANCE :  3.597633136094674\n",
      "STANDARD DEVIATION :  1.8967427701443003\n",
      "RANGE :  6.0\n",
      "\n",
      "\n",
      "\n",
      "\n",
      "INBUILT : \n",
      "\n",
      "MEAN :  3.6923076923076925\n",
      "MEAIDAN :  4.0\n",
      "VARIANCE :  3.597633136094674\n",
      "STD DEVIATION :  1.8967427701443003\n",
      "MODE :  5.0\n",
      "RANGE :  6.0\n"
     ]
    }
   ],
   "source": [
    "print(\"MANUAL : \\n\")\n",
    "print(\"MEAN : \", mean(nlst))\n",
    "print(\"MEDIAN : \", median(nlst))\n",
    "print(\"MODE : \", mode(nlst))\n",
    "print(\"VARIANCE : \", variance(nlst))\n",
    "print(\"STANDARD DEVIATION : \", std_dev(nlst))\n",
    "print(\"RANGE : \", range__(nlst))\n",
    "print(\"\\n\\n\\n\")\n",
    "print(\"INBUILT : \\n\")\n",
    "print(\"MEAN : \", np.mean(nlst))\n",
    "print(\"MEAIDAN : \", np.median(nlst))\n",
    "print(\"VARIANCE : \", np.var(nlst))\n",
    "print(\"STD DEVIATION : \", np.std(nlst))\n",
    "print(\"MODE : \", s.mode(nlst))\n",
    "print(\"RANGE : \", np.max(nlst)-np.min(nlst))"
   ]
  }
 ],
 "metadata": {
  "kernelspec": {
   "display_name": "Python 3 (ipykernel)",
   "language": "python",
   "name": "python3"
  },
  "language_info": {
   "codemirror_mode": {
    "name": "ipython",
    "version": 3
   },
   "file_extension": ".py",
   "mimetype": "text/x-python",
   "name": "python",
   "nbconvert_exporter": "python",
   "pygments_lexer": "ipython3",
   "version": "3.10.9"
  }
 },
 "nbformat": 4,
 "nbformat_minor": 5
}
