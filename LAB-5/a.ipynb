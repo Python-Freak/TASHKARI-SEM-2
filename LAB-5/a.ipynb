{
 "cells": [
  {
   "cell_type": "code",
   "execution_count": 1,
   "id": "706ef2ef",
   "metadata": {},
   "outputs": [
    {
     "name": "stdout",
     "output_type": "stream",
     "text": [
      "        crim    zn  indus  chas    nox     rm   age     dis  rad  tax  \\\n",
      "0    0.00632  18.0   2.31     0  0.538  6.575  65.2  4.0900    1  296   \n",
      "1    0.02731   0.0   7.07     0  0.469  6.421  78.9  4.9671    2  242   \n",
      "2    0.02729   0.0   7.07     0  0.469  7.185  61.1  4.9671    2  242   \n",
      "3    0.03237   0.0   2.18     0  0.458  6.998  45.8  6.0622    3  222   \n",
      "4    0.06905   0.0   2.18     0  0.458  7.147  54.2  6.0622    3  222   \n",
      "..       ...   ...    ...   ...    ...    ...   ...     ...  ...  ...   \n",
      "501  0.06263   0.0  11.93     0  0.573  6.593  69.1  2.4786    1  273   \n",
      "502  0.04527   0.0  11.93     0  0.573  6.120  76.7  2.2875    1  273   \n",
      "503  0.06076   0.0  11.93     0  0.573  6.976  91.0  2.1675    1  273   \n",
      "504  0.10959   0.0  11.93     0  0.573  6.794  89.3  2.3889    1  273   \n",
      "505  0.04741   0.0  11.93     0  0.573  6.030  80.8  2.5050    1  273   \n",
      "\n",
      "     ptratio       b  lstat  medv  \n",
      "0       15.3  396.90   4.98  24.0  \n",
      "1       17.8  396.90   9.14  21.6  \n",
      "2       17.8  392.83   4.03  34.7  \n",
      "3       18.7  394.63   2.94  33.4  \n",
      "4       18.7  396.90   5.33  36.2  \n",
      "..       ...     ...    ...   ...  \n",
      "501     21.0  391.99   9.67  22.4  \n",
      "502     21.0  396.90   9.08  20.6  \n",
      "503     21.0  396.90   5.64  23.9  \n",
      "504     21.0  393.45   6.48  22.0  \n",
      "505     21.0  396.90   7.88  11.9  \n",
      "\n",
      "[506 rows x 14 columns]\n"
     ]
    }
   ],
   "source": [
    "import pandas as pd\n",
    "import numpy as np\n",
    "import math\n",
    "from sklearn.model_selection import train_test_split\n",
    "# from sklearn.preprocessing import MinMaxScaler\n",
    "df = pd.read_csv(\"BostonHousing.csv\", header=\"infer\")\n",
    "# scaler = MinMaxScaler()\n",
    "# scaler.fit(df)\n",
    "# df = scaler.transform(df)\n",
    "print(df)"
   ]
  },
  {
   "cell_type": "code",
   "execution_count": 2,
   "id": "cd3f4183",
   "metadata": {},
   "outputs": [
    {
     "name": "stdout",
     "output_type": "stream",
     "text": [
      "Enter percentage to train data : 69\n",
      "X_train : (349, 13), Y_train : (349,)\n",
      "Union : 506\n",
      "Intersection : 0\n"
     ]
    }
   ],
   "source": [
    "X = df.iloc[:, :-1]\n",
    "Y = df.iloc[:, -1]\n",
    "train = float(input(\"Enter percentage to train data : \"))/100\n",
    "nrows = df.shape[0]\n",
    "all_indices = np.random.permutation(nrows)\n",
    "nrows_train = math.floor((train)*nrows)\n",
    "X_train = X.iloc[all_indices[:nrows_train], :]\n",
    "X_test = X.iloc[all_indices[nrows_train:], :]\n",
    "Y_train = Y.iloc[all_indices[:nrows_train]]\n",
    "Y_test = Y.iloc[all_indices[nrows_train:]]\n",
    "print(f\"X_train : {X_train.shape}, Y_train : {Y_train.shape}\")\n",
    "print(f\"Union : {len(set(all_indices[:nrows_train]).union(set(all_indices[nrows_train:])))}\")\n",
    "print(f\"Intersection : {len(set(all_indices[:nrows_train]).intersection(set(all_indices[nrows_train:])))}\")"
   ]
  },
  {
   "cell_type": "code",
   "execution_count": 3,
   "id": "ea525612",
   "metadata": {},
   "outputs": [
    {
     "name": "stdout",
     "output_type": "stream",
     "text": [
      "Enter test size : 0.31\n",
      "Shapes : (349, 13), (157, 13), (349,), (157,)\n"
     ]
    }
   ],
   "source": [
    "(X_train, X_test, y_train, y_test) = train_test_split(X, Y, test_size=float(input(\"Enter test size : \")))\n",
    "print(f\"Shapes : {X_train.shape}, {X_test.shape}, {y_train.shape}, {y_test.shape}\")"
   ]
  }
 ],
 "metadata": {
  "kernelspec": {
   "display_name": "Python 3 (ipykernel)",
   "language": "python",
   "name": "python3"
  },
  "language_info": {
   "codemirror_mode": {
    "name": "ipython",
    "version": 3
   },
   "file_extension": ".py",
   "mimetype": "text/x-python",
   "name": "python",
   "nbconvert_exporter": "python",
   "pygments_lexer": "ipython3",
   "version": "3.11.2"
  }
 },
 "nbformat": 4,
 "nbformat_minor": 5
}
